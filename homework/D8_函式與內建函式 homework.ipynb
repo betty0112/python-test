{
 "cells": [
  {
   "cell_type": "markdown",
   "id": "fa6f62c3",
   "metadata": {},
   "source": [
    "# [作業目標]\n",
    "\n",
    "1. 完成 (1) 計算平方和 (2) 計算平方根的函式\n",
    "\n",
    "2. 寫一個回傳 n! 的函式"
   ]
  },
  {
   "cell_type": "markdown",
   "id": "777d5ca6",
   "metadata": {},
   "source": [
    "# 作業 "
   ]
  },
  {
   "cell_type": "markdown",
   "id": "2f1f6005",
   "metadata": {},
   "source": [
    "### 1. 完成 (1) 計算平方和 (2) 計算平方根的函式"
   ]
  },
  {
   "cell_type": "code",
   "execution_count": 1,
   "id": "8fad8a66",
   "metadata": {},
   "outputs": [],
   "source": [
    "def square(a,b):\n",
    "    sum = a**2 + b**2\n",
    "    return sum\n",
    "\n",
    "def root(a):\n",
    "    root = a**(1/2)\n",
    "    return root"
   ]
  },
  {
   "cell_type": "markdown",
   "id": "e69079c2",
   "metadata": {},
   "source": [
    "### 2. 寫一個回傳 n! 的函式"
   ]
  },
  {
   "cell_type": "code",
   "execution_count": 2,
   "id": "df053303",
   "metadata": {},
   "outputs": [],
   "source": [
    "def level(n):\n",
    "    j = 1\n",
    "    for i in range(1,n+1):\n",
    "        j = j*i\n",
    "    return j"
   ]
  },
  {
   "cell_type": "code",
   "execution_count": null,
   "id": "68c9b3d7",
   "metadata": {},
   "outputs": [],
   "source": []
  }
 ],
 "metadata": {
  "kernelspec": {
   "display_name": "Python 3 (ipykernel)",
   "language": "python",
   "name": "python3"
  },
  "language_info": {
   "codemirror_mode": {
    "name": "ipython",
    "version": 3
   },
   "file_extension": ".py",
   "mimetype": "text/x-python",
   "name": "python",
   "nbconvert_exporter": "python",
   "pygments_lexer": "ipython3",
   "version": "3.9.13"
  }
 },
 "nbformat": 4,
 "nbformat_minor": 5
}
