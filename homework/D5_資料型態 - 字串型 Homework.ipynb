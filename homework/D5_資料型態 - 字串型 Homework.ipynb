{
 "cells": [
  {
   "cell_type": "markdown",
   "metadata": {
    "colab_type": "text",
    "id": "P6xk2_jLsvFF"
   },
   "source": [
    "# [作業目標]\n",
    "\n",
    "1. Write a Python program to get a string made of the first 2 and the last 2 chars from a given a string. If the string length is less than 2, return instead of the empty string.\n",
    "\n",
    "    * Sample Input: w3resource\n",
    "    * Sample Output: w3ce\n",
    "\n",
    "\n",
    "2. 一個網址的結構大概如圖所示，試著用 Python 分別把每個值取出來。\n",
    "\n"
   ]
  },
  {
   "cell_type": "markdown",
   "metadata": {
    "colab_type": "text",
    "id": "uXGll28asvFS"
   },
   "source": [
    "# 作業 "
   ]
  },
  {
   "cell_type": "markdown",
   "metadata": {},
   "source": [
    "### 1. Write a Python program to get a string made of the first 2 and the last 2 chars from a given a string. If the string length is less than 2, return instead of the empty string.\n",
    "\n",
    "* Sample Input: w3resource\n",
    "* Sample Output: w3ce\n"
   ]
  },
  {
   "cell_type": "code",
   "execution_count": 24,
   "metadata": {
    "colab": {},
    "colab_type": "code",
    "id": "5QrYoyNWsvFS"
   },
   "outputs": [
    {
     "name": "stdout",
     "output_type": "stream",
     "text": [
      "w3resource\n",
      "w3ce\n"
     ]
    }
   ],
   "source": [
    "a = input()\n",
    "print(a[:2] + a[-2:])"
   ]
  },
  {
   "cell_type": "markdown",
   "metadata": {},
   "source": [
    "### 2. 一個網址的結構大概如圖所示，試著用 Python 分別把每個值取出來。\n"
   ]
  },
  {
   "cell_type": "code",
   "execution_count": 21,
   "metadata": {},
   "outputs": [
    {
     "name": "stdout",
     "output_type": "stream",
     "text": [
      "protocol : https\n",
      "domain : www.trivago.com.tw:\n",
      "port : 3000\n",
      "path : search\n",
      "fragment : taipei\n"
     ]
    }
   ],
   "source": [
    "url = 'https://www.trivago.com.tw:3000/search#taipei'\n",
    "\n",
    "url = url.replace('://','/').replace(':',':/').replace('#','/')\n",
    "url_list = url.split('/')\n",
    "protocol = url_list[0]\n",
    "domain = url_list[1]\n",
    "port = url_list[2]\n",
    "path = url_list[3]\n",
    "fragment = url_list[4]\n",
    "\n",
    "print('protocol : %s' % (protocol)) # https\n",
    "print('domain : %s' % (domain)) # www.trivago.com.tw:\n",
    "print('port : %s' % (port)) # 3000\n",
    "print('path : %s' % (path)) # search\n",
    "print('fragment : %s' % (fragment)) # taipei"
   ]
  },
  {
   "cell_type": "code",
   "execution_count": null,
   "metadata": {},
   "outputs": [],
   "source": []
  }
 ],
 "metadata": {
  "colab": {
   "name": "Day_023_HW.ipynb",
   "provenance": []
  },
  "kernelspec": {
   "display_name": "Python 3 (ipykernel)",
   "language": "python",
   "name": "python3"
  },
  "language_info": {
   "codemirror_mode": {
    "name": "ipython",
    "version": 3
   },
   "file_extension": ".py",
   "mimetype": "text/x-python",
   "name": "python",
   "nbconvert_exporter": "python",
   "pygments_lexer": "ipython3",
   "version": "3.9.13"
  }
 },
 "nbformat": 4,
 "nbformat_minor": 1
}
